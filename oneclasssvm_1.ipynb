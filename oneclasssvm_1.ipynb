{
  "metadata": {
    "language_info": {
      "name": ""
    },
    "kernelspec": {
      "name": "",
      "display_name": ""
    }
  },
  "nbformat_minor": 4,
  "nbformat": 4,
  "cells": [
    {
      "cell_type": "code",
      "source": "import pandas as pd\nimport numpy as np\nimport matplotlib.pyplot as plt\nfrom sklearn.preprocessing import StandardScaler\nfrom sklearn.model_selection import train_test_split\nfrom sklearn.metrics import accuracy_score\nfrom sklearn.svm import OneClassSVM\n\n# Importing and combining the datasets\ndf1 = pd.read_csv('../Datasets/NB.csv')\ndf1['Status'] = 0\ndf2 = pd.read_csv('../Datasets/IR - 7.csv')\ndf2['Status'] = 1\ntrain_data = pd.concat([df1[['DE', 'FE', 'Status']], df2[['DE', 'FE', 'Status']]], ignore_index=True)\n\n# Splitting the data into training and testing sets\ndf1_train, df1_test = train_test_split(df1, test_size=0.2, shuffle=False, random_state=0)\ndf2_train, df2_test = train_test_split(df2, test_size=0.2, shuffle=False, random_state=0)\n\n# Scaling the data\nscaler = StandardScaler()\ntrain_data_scaled = scaler.fit_transform(train_data)\ntest_data_scaled = scaler.transform(pd.concat([df1_test[['DE', 'FE', 'Status']], df2_test[['DE', 'FE', 'Status']]], ignore_index=True))\n\n# Training the OneClassSVM model\noutliers_fraction = 0.01\nmodel = OneClassSVM(nu=outliers_fraction, kernel=\"rbf\", gamma=0.01)\npred_train = model.fit(train_data_scaled)\n\n# Predicting anomalies in the training and testing sets\ntrain_data['Anomaly'] = pd.Series(model.predict(train_data_scaled))\ntest_data = pd.concat([df1_test[['DE', 'FE', 'Status']], df2_test[['DE', 'FE', 'Status']]], ignore_index=True)\ntest_data['Anomaly'] = pd.Series(model.predict(test_data_scaled))\n\n# Visualizing the anomalies\ntrain_anomalies = train_data[train_data['Anomaly'] == -1]\ntest_anomalies = test_data[test_data['Anomaly'] == -1]\n\nf, (ax1, ax2) = plt.subplots(2, 1, figsize=(18, 12))\nax1.scatter(train_anomalies.index, train_anomalies.DE, label='Anomaly', color='red', s=10)\nax1.plot(train_data.index, train_data.DE, label='DE')\nax1.set_xlim((0, len(train_data.index)))\nax1.set_title('One Class SVM (Training Set)')\nax1.legend()\n\nax2.scatter(test_anomalies.index, test_anomalies.DE, label='Anomaly', color='red', s=10)\nax2.plot(test_data.index, test_data.DE, label='DE')\nax2.set_xlim((0, len(test_data.index)))\nax2.set_title('One Class SVM (Testing Set)')\nax2.legend()\n\nplt.show()\n\n# Computing accuracy and number of anomalies found in the testing set\nscore = 100 * accuracy_score(test_data['Anomaly'], test_data['Status'])\nnum_anomalies = test_anomalies['Anomaly'].count()\nprint(\"Accuracy: {:.2f}%\".format(score))\nprint(\"Anomalies found: {}\".format(num_anomalies))\n",
      "metadata": {},
      "execution_count": null,
      "outputs": []
    }
  ]
}