{
  "metadata": {
    "language_info": {
      "name": ""
    },
    "kernelspec": {
      "name": "python",
      "display_name": "Python (Pyodide)",
      "language": "python"
    }
  },
  "nbformat_minor": 4,
  "nbformat": 4,
  "cells": [
    {
      "cell_type": "code",
      "source": "importing necessary packages\nimport pandas as pd\nimport numpy as np\nfrom sklearn.model_selection import train_test_split\nfrom sklearn.preprocessing import StandardScaler\nfrom sklearn.ensemble import RandomForestClassifier\nfrom sklearn.metrics import confusion_matrix, classification_report\nimport seaborn as sn\nimport matplotlib.pyplot as plt\n\nImporting the dataset\ntrain = pd.read_csv('../Datasets/NB.csv')\ntrain['Fault'] = 0\ntest = pd.read_csv('../Datasets/IR - 7.csv')\ntest['Fault'] = 1\ndataset = train.append(test)\n\nSplitting the dataset into training and testing set\nX = dataset.iloc[:, 0:2].values\ny = dataset.iloc[:, 2]\nX_train, X_test, y_train, y_test = train_test_split(X, y, test_size = 0.2, random_state = 0)\n\nFeature scaling\nsc = StandardScaler()\nX_train = sc.fit_transform(X_train)\nX_test = sc.transform(X_test)\n\nFitting Random Forest Classification to the Training set\nclassifier = RandomForestClassifier(n_estimators = 10, criterion = 'entropy', random_state = 0)\nclassifier.fit(X_train, y_train)\n\nPredicting the Test set results\ny_pred = classifier.predict(X_test)\n\nComputing the accuracy score\nscore = classifier.score(X_test, y_test)\nprint(\"Accuracy Score: {}\".format(score))\n\nCreating a confusion matrix\ncm = confusion_matrix(y_test, y_pred)\nindex = ['Normal','Inner Race (0.007\")']\ncolumns = ['Normal','Inner Race (0.007\")']\ncm_df = pd.DataFrame(cm, columns=columns, index=index)\nplt.figure(figsize=(10,4))\nsn.set(font_scale=1.4) # for label size\nsn.heatmap(cm_df, annot=True, fmt='g') # font size\nplt.title('Confusion matrix')\nplt.xlabel('Predicted')\nplt.ylabel('True')\nplt.show()\n\nGenerating a classification report\ncr = classification_report(y_test, y_pred, target_names=['Normal','Inner Race (0.007\")'])\nprint(cr)\n\nComputing the number of anomalies detected\nnormal, IR = cm\nanomalies = normal[1] + IR[0]\nprint(\"Anomalies: {}\".format(anomalies))",
      "metadata": {},
      "execution_count": null,
      "outputs": []
    }
  ]
}